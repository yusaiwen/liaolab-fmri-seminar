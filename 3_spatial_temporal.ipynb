{
 "cells": [
  {
   "cell_type": "markdown",
   "metadata": {},
   "source": [
    "## Data format\n",
    "\n",
    "In the field of human neoruscience, three commonly-used data format of neuroimage are introduced here:\n",
    "\n",
    "- DICOM: the original data from the scanner\n",
    "- NIFTI: the neurological data format\n",
    "- GIFTI: storing only surface information\n",
    "\n",
    "\n",
    "Data of a neuroimage contains not only information of both neumeric data of what scanner detects, but also the meta data, that is, the information of that scan, say, date of the scan, name of the subject, TR among others. Meta data of the neuroimage are often referred to as head data and are stored with the numeric data together."
   ]
  },
  {
   "cell_type": "markdown",
   "metadata": {},
   "source": [
    "## Spatial and temporal properties of MRI image"
   ]
  },
  {
   "cell_type": "markdown",
   "metadata": {},
   "source": [
    "The image of MRI has two important peoperties, that is, spatial resolution and temporl resolution. Spatial resolution refers to the ability to distin- guish changes in an image (or map) across different spatial locations, whereas temporal resolution refers to the ability to distinguish changes in a signal (or map) across time.\n",
    "Simplely put it, smaller voxel size stands for higher spatial resolution, and faster collection of data stands for higher temporal resolution. Higher spatial resolution will make the image more fine(think of the difference of 720p and 1080p video), and higher temporal resolution will make the image capture faster differences(think of the difference of 30HZ and 60HZ video).\n",
    "The increment of spatial resolution will take more time to collect the data, resulting the decline of temporal resolution."
   ]
  },
  {
   "cell_type": "markdown",
   "metadata": {},
   "source": [
    "### Spatial resolution of MRI"
   ]
  },
  {
   "cell_type": "markdown",
   "metadata": {},
   "source": [
    "#### Basic terminology"
   ]
  },
  {
   "cell_type": "markdown",
   "metadata": {},
   "source": [
    "We have three basic terminologies to desribe the \n",
    "- Field of View(FOV): describes the physical size of a slice ($M \\mathrm{\\ \\ cm}\\times N \\mathrm{\\ \\ cm}$)(usually symmetric power to facilitate fast Fourier transformation for image reconstruction).\n",
    "\n",
    "- Matrix size $(R \\times C)$ :determines how many voxels are acquired in each dimension within that slice\n",
    "\n",
    "    - Within-slice(in-plane) voxel size:  $M/R \\times N/C$\n",
    "\n",
    "\n",
    "- Slice thickness: provides the third dimension (through-plane) and is generally the same or larger than the in-plane voxel (physical size)\n"
   ]
  },
  {
   "cell_type": "markdown",
   "metadata": {},
   "source": [
    "#### Smaller voxel size is always right?"
   ]
  },
  {
   "cell_type": "markdown",
   "metadata": {},
   "source": [
    "Indeed, smaller voxel size will give rise to higher spatial resolution of the image, which, however, will reduce SNR. The signal intensity is proportional to the total number of protons contained within a voxel. Large voxels, that contain more protons, emit stronger signals and result in less image noise. Unfortunately, as we have just discovered, large voxels reduce image detail. Therefore, when the factors for an imaging procedure are being selected, this compromise between signal-to-noise ratio and image detail must be considered. The major reason for imaging relatively thick slices is to increase the voxel signal intensity and it also allows shorter TE values.\n",
    "\n",
    "In general, larger voxels buy you more SNR, except when the activated region does not fill the voxel (partial voluming).\n",
    "\n",
    "Partial volume effects refer to the combination, within a single voxel, of signal contributions from two or more distinct tissue types or functional regions (Huettel, Song & McCarthy, 2004)\n",
    "\n"
   ]
  },
  {
   "cell_type": "markdown",
   "metadata": {},
   "source": [
    "<span style=\"color:red\">**This voxel contains mostly gray matter.**</span>\n",
    "\n",
    "<span style=\"color:green\">**This voxel contains mostly white matter.**</span>\n",
    "\n",
    "<span style=\"color:blue\">**This voxel contains both gray and white matter.  Even if neurons within the voxel are strongly activated, the signal may be washed out by the absence of activation in white matter.**</span>"
   ]
  },
  {
   "cell_type": "markdown",
   "metadata": {},
   "source": [
    "<img src=\"pve.png\" width=\"200\"/>"
   ]
  },
  {
   "cell_type": "markdown",
   "metadata": {},
   "source": [
    "Partial voluming becomes more of a problem with larger voxel sizes."
   ]
  },
  {
   "cell_type": "markdown",
   "metadata": {},
   "source": [
    "#### Spatial correspondence between  fMRI and electrophysiological recordings"
   ]
  },
  {
   "cell_type": "markdown",
   "metadata": {},
   "source": [
    "#### What limits spatial resolution"
   ]
  },
  {
   "cell_type": "markdown",
   "metadata": {},
   "source": [
    "- **noise**: smaller voxels have lower SNR\n",
    "\n",
    "- **head motion**: the smaller your voxels, the more contamination head motion induces\n",
    "- **temporal resolution**: the smaller your voxels, the longer it takes to acquire the same volume\n",
    "    - 4 mm $\\times$ 4 mm $\\times$ 4mm  at 16 slices/sec\n",
    "    - OR 1 mm $\\times$ 1 mm $\\times$ 1mm at 1 slice/sec\n"
   ]
  },
  {
   "cell_type": "markdown",
   "metadata": {},
   "source": [
    "#### Analysis steps reducing spatial resolution"
   ]
  },
  {
   "cell_type": "markdown",
   "metadata": {},
   "source": [
    "- **Spatial Smoothing**: Remove high-frequency noise and improve the validity of statistical tests\n",
    "- **Normalization**: Including resampling.\n",
    "- **ROI analysis**: The functional resolution of the data may be greatly increased by signal averaging.\n",
    "\n",
    "As a general rule, many analysis steps sacrifice spatial resolution in order to increase functional resolution.\n"
   ]
  },
  {
   "cell_type": "markdown",
   "metadata": {},
   "source": [
    "### Temporal resolution of MRI"
   ]
  },
  {
   "cell_type": "code",
   "execution_count": null,
   "metadata": {
    "vscode": {
     "languageId": "plaintext"
    }
   },
   "outputs": [],
   "source": []
  },
  {
   "cell_type": "code",
   "execution_count": null,
   "metadata": {
    "vscode": {
     "languageId": "plaintext"
    }
   },
   "outputs": [],
   "source": []
  },
  {
   "cell_type": "markdown",
   "metadata": {},
   "source": [
    "## SSH\n",
    "\n",
    "SSH is a secure protocol to remotely connect to a server in command line. ssh(open-ssh) is a software realizing SSH protocol.\n",
    "\n",
    "For MAC and *nix user, you don't have to install another software.\n",
    "For windows user you are recommened to install the following three software to have a convenient access to ssh server.\n",
    "\n",
    "- **OpenSSH**: https://github.com/PowerShell/Win32-OpenSSH/releases\n",
    "- **Windows Terminal**: search in Microsoft Store\n",
    "- **Powershell**: search in Microsoft Store\n",
    "\n",
    "## VNC Viewer\n",
    "\n",
    "Virtual Network Computing (VNC) is also a software that realizes RFB protocol to remotely have a secure access to a server."
   ]
  },
  {
   "cell_type": "code",
   "execution_count": null,
   "metadata": {
    "vscode": {
     "languageId": "plaintext"
    }
   },
   "outputs": [],
   "source": []
  },
  {
   "cell_type": "markdown",
   "metadata": {},
   "source": []
  }
 ],
 "metadata": {
  "language_info": {
   "name": "python"
  },
  "orig_nbformat": 4
 },
 "nbformat": 4,
 "nbformat_minor": 2
}
